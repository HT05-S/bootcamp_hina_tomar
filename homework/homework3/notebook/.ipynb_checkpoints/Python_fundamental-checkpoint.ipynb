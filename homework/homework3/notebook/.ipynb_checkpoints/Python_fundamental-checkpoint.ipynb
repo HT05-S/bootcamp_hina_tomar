{
 "cells": [
  {
   "cell_type": "code",
   "execution_count": 32,
   "id": "7663386a-5ad9-4cdf-8fb1-d721cfe11f49",
   "metadata": {},
   "outputs": [],
   "source": [
    "import numpy as np\n",
    "import time\n",
    "import pandas as pd\n",
    "import matplotlib.pyplot as plt\n",
    "import os\n",
    "from pathlib import Path"
   ]
  },
  {
   "cell_type": "code",
   "execution_count": 33,
   "id": "37c6fbcb",
   "metadata": {
    "vscode": {
     "languageId": "plaintext"
    }
   },
   "outputs": [
    {
     "name": "stdout",
     "output_type": "stream",
     "text": [
      "\n",
      "[a] NumPy: Creating an array and performing elementwise operations\n",
      "\n",
      "Initial array: [ 0.   2.5  5.   7.5 10. ]\n",
      "Array multiplied by 2: [ 0.  5. 10. 15. 20.]\n",
      "Array multiplied by 2: [ 0.  5. 10. 15. 20.]\n"
     ]
    }
   ],
   "source": [
    "# ---------- 1) NUMPY OPERATIONS ----------\n",
    "print(\"\\n[a] NumPy: Creating an array and performing elementwise operations\\n\")\n",
    "\n",
    "# Create a small array using linespace\n",
    "arr0 = np.linspace(0, 10, 5)\n",
    "print(\"Initial array:\", arr0)\n",
    "\n",
    "# elementwise operation\n",
    "arr1 = arr0*2\n",
    "print(\"Array multiplied by 2:\", arr1)\n",
    "\n",
    "# Elementwise vectorized operations\n",
    "doubled = arr0 * 2 \n",
    "print(\"Array multiplied by 2:\", doubled)"
   ]
  },
  {
   "cell_type": "code",
   "execution_count": 34,
   "id": "c75f483c-ed88-4fad-8274-d026b57ab3e1",
   "metadata": {},
   "outputs": [
    {
     "name": "stdout",
     "output_type": "stream",
     "text": [
      "\n",
      "[b] Compare loop vs vectorized execution on large array\n",
      "\n",
      "Loop time (s):       2.6072\n",
      "Vectorized time (s): 0.0306\n"
     ]
    }
   ],
   "source": [
    "print(\"\\n[b] Compare loop vs vectorized execution on large array\\n\")\n",
    "# Compare loop vs vectorized on a large array\n",
    "N = 10000000\n",
    "big_array = np.arange(N)\n",
    "\n",
    "# Loop version\n",
    "t0 = time.perf_counter()\n",
    "loop_squared = [x**2 for x in big_array]\n",
    "t1 = time.perf_counter()\n",
    "\n",
    "# Vectorized version\n",
    "t2 = time.perf_counter()\n",
    "vec_squared = big_array ** 2\n",
    "t3 = time.perf_counter()\n",
    "\n",
    "print(f\"Loop time (s):       {t1 - t0:.4f}\")\n",
    "print(f\"Vectorized time (s): {t3 - t2:.4f}\")"
   ]
  },
  {
   "cell_type": "code",
   "execution_count": 35,
   "id": "bd55118e-7fb7-47d9-ad49-5d74465df134",
   "metadata": {},
   "outputs": [
    {
     "name": "stdout",
     "output_type": "stream",
     "text": [
      "\n",
      "[2] Load CSV and inspect with .info() and .head()\n",
      "\n",
      "=== .head() ===\n",
      "     Name  Age   Salary\n",
      "0    Hina   26  1500000\n",
      "1   Mohit   26   600000\n",
      "2  Sachin   25   750000\n",
      "3   Rajat   25   550000\n",
      "4  Shivam   21   900000 \n",
      "\n",
      "=== .info() ===\n",
      "<class 'pandas.core.frame.DataFrame'>\n",
      "RangeIndex: 10 entries, 0 to 9\n",
      "Data columns (total 3 columns):\n",
      " #   Column  Non-Null Count  Dtype \n",
      "---  ------  --------------  ----- \n",
      " 0   Name    10 non-null     object\n",
      " 1   Age     10 non-null     int64 \n",
      " 2   Salary  10 non-null     int64 \n",
      "dtypes: int64(2), object(1)\n",
      "memory usage: 372.0+ bytes\n",
      "\n"
     ]
    }
   ],
   "source": [
    "print(\"\\n[2] Load CSV and inspect with .info() and .head()\\n\")\n",
    "csv_path = \"C:/Users/hinat/bootcamp_hina_tomar/homework/homework3/data/dataset.csv\"\n",
    "df = pd.read_csv(csv_path)\n",
    "\n",
    "# .head(): by default the first 5 rows of the data\n",
    "print(\"=== .head() ===\")\n",
    "df.columns = df.columns.str.strip() # strip whitespace and tabs from both ends without doing this it was coming with /t\n",
    "print(df.head(), \"\\n\")\n",
    "\n",
    "# .info(): dtypes + non-null counts (prints to stdout)\n",
    "print(\"=== .info() ===\")\n",
    "df.info()\n",
    "print()  # blank line for readability"
   ]
  },
  {
   "cell_type": "code",
   "execution_count": 39,
   "id": "540dfe52-0ce5-4868-b238-02159a2fa251",
   "metadata": {},
   "outputs": [
    {
     "name": "stdout",
     "output_type": "stream",
     "text": [
      "\n",
      "[3] Summary statistics with .describe() and .groupby()\n",
      "\n",
      "\n",
      "=== Using .describe() ===\n",
      "             Age        Salary\n",
      "count  10.000000  1.000000e+01\n",
      "mean   22.200000  9.490000e+05\n",
      "std     3.119829  3.620144e+05\n",
      "min    18.000000  5.500000e+05\n",
      "25%    20.250000  7.125000e+05\n",
      "50%    21.500000  8.400000e+05\n",
      "75%    25.000000  1.162500e+06\n",
      "max    26.000000  1.560000e+06\n",
      "Column names: ['Name', 'Age', 'Salary']\n",
      "\n",
      "=== Using .groupby() on 'Age' ===\n",
      "        Salary\n",
      "Age           \n",
      "18    975000.0\n",
      "20   1560000.0\n",
      "21    890000.0\n",
      "22    800000.0\n",
      "25    650000.0\n",
      "26   1050000.0\n"
     ]
    }
   ],
   "source": [
    "print(\"\\n[3] Summary statistics with .describe() and .groupby()\\n\")\n",
    "print(\"\\n=== Using .describe() ===\")\n",
    "summary= df.describe()\n",
    "print(summary)\n",
    "\n",
    "print(\"Column names:\", list(df.columns)) # Show the actual columns for debugging\n",
    "\n",
    "# group by age and calculate mean of salary\n",
    "# Trim whitespace from columns to avoid leading/trailing space issues- this step is not required now becuase we have already stripped the spaces \n",
    "# But I am just keeping form my reference if I miss upwards then it can be done here\n",
    "df_clean = df.rename(columns=lambda c: c.strip() if isinstance(c, str) else c) \n",
    "if \"Age\" in df_clean.columns:\n",
    "    group_summary = df_clean.groupby(\"Age\", dropna=False).mean(numeric_only=True)\n",
    "    print(\"\\n=== Using .groupby() on 'Age' ===\")\n",
    "    print(group_summary)\n",
    "else:\n",
    "    print(\"\\nNo 'Age' column found for groupby example.\")\n",
    "    print(\"Available columns after stripping whitespace:\", list(df_clean.columns))\n",
    "    "
   ]
  },
  {
   "cell_type": "code",
   "execution_count": 44,
   "id": "a1ef9fcb-6206-4870-bcb6-7708cfea1e55",
   "metadata": {},
   "outputs": [
    {
     "name": "stdout",
     "output_type": "stream",
     "text": [
      "\n",
      "[4] Save summary statistics\n",
      "\n"
     ]
    }
   ],
   "source": [
    "print(\"\\n[4] Save summary statistics\\n\")\n",
    "# Ensure the processed directory exists\n",
    "\n",
    "output_dir = Path('C:/Users/hinat/bootcamp_hina_tomar/homework/homework3/data/Processed')\n",
    "output_dir.mkdir(parents=True, exist_ok=True)\n",
    "\n",
    "summary.to_csv('C:/Users/hinat/bootcamp_hina_tomar/homework/homework3/data/Processed/summary.csv', index=True)  \n",
    "# Keep index to show metric names like 'mean', 'std'\n",
    "\n",
    "group_summary.to_json('C:/Users/hinat/bootcamp_hina_tomar/homework/homework3/data/Processed/group_summary.json', orient='table', indent=2)\n",
    "\n",
    "# Bonus: simple plot\n",
    "df.hist(figsize=(4,4))\n",
    "plt.tight_layout()\n",
    "plt.savefig(\"C:/Users/hinat/bootcamp_hina_tomar/homework/homework3/data/Processed/histogram.png\")\n",
    "plt.close()"
   ]
  },
  {
   "cell_type": "code",
   "execution_count": null,
   "id": "23f0122a-e5a2-4270-9057-0adc78995ced",
   "metadata": {},
   "outputs": [],
   "source": []
  }
 ],
 "metadata": {
  "kernelspec": {
   "display_name": "Python 3 (ipykernel)",
   "language": "python",
   "name": "python3"
  },
  "language_info": {
   "codemirror_mode": {
    "name": "ipython",
    "version": 3
   },
   "file_extension": ".py",
   "mimetype": "text/x-python",
   "name": "python",
   "nbconvert_exporter": "python",
   "pygments_lexer": "ipython3",
   "version": "3.11.13"
  }
 },
 "nbformat": 4,
 "nbformat_minor": 5
}
