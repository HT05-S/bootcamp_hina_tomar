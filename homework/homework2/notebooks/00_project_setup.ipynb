{
 "cells": [
  {
   "cell_type": "markdown",
   "id": "43531fd2",
   "metadata": {},
   "source": [
    "# Environment & Config Check"
   ]
  },
  {
   "cell_type": "code",
   "execution_count": 1,
   "id": "0e5ad809-a830-46fa-b15b-3f38866655d0",
   "metadata": {},
   "outputs": [],
   "source": [
    "import os\n",
    "os.chdir(\"..\")"
   ]
  },
  {
   "cell_type": "code",
   "execution_count": 2,
   "id": "0dce3de7-bf3f-4e14-9a66-c1d0a9b02110",
   "metadata": {},
   "outputs": [
    {
     "name": "stdout",
     "output_type": "stream",
     "text": [
      "API_KEY present: False\n",
      "DATA_DIR value: None\n"
     ]
    }
   ],
   "source": [
    "from src.config import load_env, get_key\n",
    "\n",
    "load_env()\n",
    "api_key = get_key(\"API_KEY\")\n",
    "print(\"API_KEY present:\", api_key is not None)\n",
    "print(\"DATA_DIR value:\", get_key(\"DATA_DIR\"))"
   ]
  },
  {
   "cell_type": "code",
   "execution_count": null,
   "id": "1957fffb-737d-4aa2-a296-5e8bdb7438dd",
   "metadata": {},
   "outputs": [],
   "source": []
  }
 ],
 "metadata": {
  "kernelspec": {
   "display_name": "Python 3 (ipykernel)",
   "language": "python",
   "name": "python3"
  },
  "language_info": {
   "codemirror_mode": {
    "name": "ipython",
    "version": 3
   },
   "file_extension": ".py",
   "mimetype": "text/x-python",
   "name": "python",
   "nbconvert_exporter": "python",
   "pygments_lexer": "ipython3",
   "version": "3.11.13"
  }
 },
 "nbformat": 4,
 "nbformat_minor": 5
}
