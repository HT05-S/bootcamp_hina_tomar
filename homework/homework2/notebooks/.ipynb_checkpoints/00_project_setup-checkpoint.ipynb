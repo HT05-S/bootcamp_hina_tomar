{
 "cells": [
  {
   "cell_type": "markdown",
   "id": "43531fd2",
   "metadata": {},
   "source": [
    "# Environment & Config Check"
   ]
  }
 ],
 "metadata": {
  "language_info": {
   "name": "python"
  }
 },
 "nbformat": 4,
 "nbformat_minor": 5
}
