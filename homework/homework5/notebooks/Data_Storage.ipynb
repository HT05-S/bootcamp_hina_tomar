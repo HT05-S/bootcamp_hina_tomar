{
 "cells": [
  {
   "cell_type": "markdown",
   "id": "c9840f41-e2b6-49ca-9239-cb1f51c87112",
   "metadata": {},
   "source": [
    "HOMEWORK 05- DATA STORAGE"
   ]
  },
  {
   "cell_type": "markdown",
   "id": "9785587f-f6cb-4933-916c-234a34768613",
   "metadata": {},
   "source": [
    "IMPORTING NECESSARY LIBRARIES-"
   ]
  },
  {
   "cell_type": "code",
   "execution_count": 17,
   "id": "d5f4b42c-7dea-4549-917d-34ee129c08d2",
   "metadata": {},
   "outputs": [
    {
     "name": "stdout",
     "output_type": "stream",
     "text": [
      "RAW -> C:\\Users\\hinat\\bootcamp_hina_tomar\\homework\\homework5\\notebooks\\data\\raw\n",
      "PROC -> C:\\Users\\hinat\\bootcamp_hina_tomar\\homework\\homework5\\notebooks\\data\\processed\n"
     ]
    }
   ],
   "source": [
    "import os, pathlib, datetime as dt\n",
    "import pandas as pd\n",
    "import numpy as np\n",
    "from dotenv import load_dotenv\n",
    "\n",
    "# Creating two folders in data folder i.e. raw, processed\n",
    "load_dotenv()\n",
    "RAW = pathlib.Path(os.getenv('DATA_DIR_RAW', 'data/raw'))\n",
    "PROC = pathlib.Path(os.getenv('DATA_DIR_PROCESSED', 'data/processed'))\n",
    "RAW.mkdir(parents=True, exist_ok=True)\n",
    "PROC.mkdir(parents=True, exist_ok=True)\n",
    "print('RAW ->', RAW.resolve())\n",
    "print('PROC ->', PROC.resolve())"
   ]
  },
  {
   "cell_type": "markdown",
   "id": "f409a53b-568a-4c7c-8381-7df0f3e12ebb",
   "metadata": {},
   "source": [
    "1) SAVE IN TWO FORMATS\n",
    "i)  Load Sample Dataframe.\n",
    "ii)  Save to data/raw/ as CSV and to data/processed/ as Parquet.\n",
    "iii) Use DATA_DIR_RAW and DATA_DIR_PROCESSED from .env\n"
   ]
  },
  {
   "cell_type": "code",
   "execution_count": 18,
   "id": "d3705e47-4683-44fd-9c7b-17d031700d71",
   "metadata": {},
   "outputs": [
    {
     "data": {
      "text/html": [
       "<div>\n",
       "<style scoped>\n",
       "    .dataframe tbody tr th:only-of-type {\n",
       "        vertical-align: middle;\n",
       "    }\n",
       "\n",
       "    .dataframe tbody tr th {\n",
       "        vertical-align: top;\n",
       "    }\n",
       "\n",
       "    .dataframe thead th {\n",
       "        text-align: right;\n",
       "    }\n",
       "</style>\n",
       "<table border=\"1\" class=\"dataframe\">\n",
       "  <thead>\n",
       "    <tr style=\"text-align: right;\">\n",
       "      <th></th>\n",
       "      <th>date</th>\n",
       "      <th>ticker</th>\n",
       "      <th>price</th>\n",
       "    </tr>\n",
       "  </thead>\n",
       "  <tbody>\n",
       "    <tr>\n",
       "      <th>0</th>\n",
       "      <td>2024-01-01</td>\n",
       "      <td>AAPL</td>\n",
       "      <td>149.873206</td>\n",
       "    </tr>\n",
       "    <tr>\n",
       "      <th>1</th>\n",
       "      <td>2024-01-02</td>\n",
       "      <td>AAPL</td>\n",
       "      <td>149.314237</td>\n",
       "    </tr>\n",
       "    <tr>\n",
       "      <th>2</th>\n",
       "      <td>2024-01-03</td>\n",
       "      <td>AAPL</td>\n",
       "      <td>149.501673</td>\n",
       "    </tr>\n",
       "    <tr>\n",
       "      <th>3</th>\n",
       "      <td>2024-01-04</td>\n",
       "      <td>AAPL</td>\n",
       "      <td>151.422687</td>\n",
       "    </tr>\n",
       "    <tr>\n",
       "      <th>4</th>\n",
       "      <td>2024-01-05</td>\n",
       "      <td>AAPL</td>\n",
       "      <td>149.373938</td>\n",
       "    </tr>\n",
       "  </tbody>\n",
       "</table>\n",
       "</div>"
      ],
      "text/plain": [
       "        date ticker       price\n",
       "0 2024-01-01   AAPL  149.873206\n",
       "1 2024-01-02   AAPL  149.314237\n",
       "2 2024-01-03   AAPL  149.501673\n",
       "3 2024-01-04   AAPL  151.422687\n",
       "4 2024-01-05   AAPL  149.373938"
      ]
     },
     "execution_count": 18,
     "metadata": {},
     "output_type": "execute_result"
    }
   ],
   "source": [
    "# Loading Sample Dataframe\n",
    "dates = pd.date_range('2024-01-01', periods=20, freq='D')\n",
    "df = pd.DataFrame({'date': dates, 'ticker': ['AAPL']*20, 'price': 150 + np.random.randn(20).cumsum()})\n",
    "df.head()"
   ]
  },
  {
   "cell_type": "code",
   "execution_count": 19,
   "id": "3749d52d-5d3b-46ca-bf8f-1d93d3fe76d7",
   "metadata": {},
   "outputs": [
    {
     "name": "stdout",
     "output_type": "stream",
     "text": [
      "Parquet engine not available. Install pyarrow or fastparquet to complete this step.\n"
     ]
    }
   ],
   "source": [
    "# Saving to data/raw/ as CSV and to data/processed/ as Parquet.\n",
    "def ts(): return dt.datetime.now().strftime('%Y%m%d-%H%M%S')\n",
    "\n",
    "# TODO: Save CSV\n",
    "csv_path = RAW / f\"sample_{ts()}.csv\"\n",
    "df.to_csv(csv_path, index=False)\n",
    "csv_path\n",
    "\n",
    "# TODO: Save Parquet\n",
    "pq_path = PROC / f\"sample_{ts()}.parquet\"\n",
    "try:\n",
    "    df.to_parquet(pq_path)\n",
    "except Exception as e:\n",
    "    print('Parquet engine not available. Install pyarrow or fastparquet to complete this step.')\n",
    "    pq_path = None\n",
    "pq_path\n"
   ]
  },
  {
   "cell_type": "markdown",
   "id": "d8521f0b-6b17-4a50-92d5-9d46d682afba",
   "metadata": {},
   "source": [
    " 2. RELOAD AND VALIDATE\n",
    " i) Reload both files.\n",
    " ii) Confirm shapes match and critical columns keep expected dtypes.\n",
    " iii) Add a small validation function and show results in the notebook."
   ]
  },
  {
   "cell_type": "code",
   "execution_count": 20,
   "id": "eaa83cd3-e1c3-47ad-9b73-19a65e9a5648",
   "metadata": {},
   "outputs": [
    {
     "data": {
      "text/plain": [
       "{'shape_equal': True, 'date_is_datetime': True, 'price_is_numeric': True}"
      ]
     },
     "execution_count": 20,
     "metadata": {},
     "output_type": "execute_result"
    }
   ],
   "source": [
    "# Creating validate function\n",
    "def validate_loaded(original, reloaded):\n",
    "    checks = {\n",
    "        'shape_equal': original.shape == reloaded.shape,\n",
    "        'date_is_datetime': pd.api.types.is_datetime64_any_dtype(reloaded['date']) if 'date' in reloaded.columns else False,\n",
    "        'price_is_numeric': pd.api.types.is_numeric_dtype(reloaded['price']) if 'price' in reloaded.columns else False,\n",
    "    }\n",
    "    return checks\n",
    "    \n",
    "df_csv = pd.read_csv(csv_path, parse_dates=['date']) # reloading csv file\n",
    "validate_loaded(df, df_csv) # Checking csv file shape match and columns dtypes as required"
   ]
  },
  {
   "cell_type": "code",
   "execution_count": 22,
   "id": "7e83fadf-8b2e-4179-9b28-db4c734db4bd",
   "metadata": {},
   "outputs": [],
   "source": [
    "if pq_path:\n",
    "    try:\n",
    "        df_pq = pd.read_parquet(pq_path) # reloading parquet file\n",
    "        validate_loaded(df, df_pq) # Checking parquet file shape match and columns dtypes as required\n",
    "    except Exception as e:\n",
    "        print('Parquet read failed:', e)"
   ]
  },
  {
   "cell_type": "markdown",
   "id": "a3ae8d67-29e4-4943-beda-777c50751d52",
   "metadata": {},
   "source": [
    "3. REFACTOR TO UTILITIES-\n",
    "i) Implement write_df and read_df that route by file suffix (csv/parquet).\n",
    "ii) Handle missing directories and missing Parquet engine with a clear message."
   ]
  },
  {
   "cell_type": "code",
   "execution_count": 26,
   "id": "cff3666e-9019-44a5-a784-807a3b4f3e12",
   "metadata": {},
   "outputs": [
    {
     "name": "stdout",
     "output_type": "stream",
     "text": [
      "Skipping Parquet util demo: Parquet engine not available. Install pyarrow or fastparquet.\n"
     ]
    }
   ],
   "source": [
    "import typing as t, pathlib\n",
    "\n",
    "def detect_format(path: t.Union[str, pathlib.Path]):\n",
    "    s = str(path).lower()\n",
    "    if s.endswith('.csv'): return 'csv'\n",
    "    if s.endswith('.parquet') or s.endswith('.pq') or s.endswith('.parq'): return 'parquet'\n",
    "    raise ValueError('Unsupported format: ' + s)\n",
    "\n",
    "def write_df(df: pd.DataFrame, path: t.Union[str, pathlib.Path]):\n",
    "    p = pathlib.Path(path); p.parent.mkdir(parents=True, exist_ok=True)\n",
    "    fmt = detect_format(p)\n",
    "    if fmt == 'csv':\n",
    "        df.to_csv(p, index=False)\n",
    "    else:\n",
    "        try:\n",
    "            df.to_parquet(p)\n",
    "        except Exception as e:\n",
    "            raise RuntimeError('Parquet engine not available. Install pyarrow or fastparquet.') from e\n",
    "    return p\n",
    "\n",
    "def read_df(path: t.Union[str, pathlib.Path]):\n",
    "    p = pathlib.Path(path)\n",
    "    fmt = detect_format(p)\n",
    "    if fmt == 'csv':\n",
    "        return pd.read_csv(p, parse_dates=['date']) if 'date' in pd.read_csv(p, nrows=0).columns else pd.read_csv(p)\n",
    "    else:\n",
    "        try:\n",
    "            return pd.read_parquet(p)\n",
    "        except Exception as e:\n",
    "            raise RuntimeError('Parquet engine not available. Install pyarrow or fastparquet.') from e\n",
    "\n",
    "# Demo\n",
    "p_csv = RAW / f\"util_{ts()}.csv\"\n",
    "p_pq  = PROC / f\"util_{ts()}.parquet\"\n",
    "write_df(df, p_csv); read_df(p_csv).head()\n",
    "try:\n",
    "    write_df(df, p_pq)\n",
    "    read_df(p_pq).head()\n",
    "except RuntimeError as e:\n",
    "    print('Skipping Parquet util demo:', e)"
   ]
  },
  {
   "cell_type": "code",
   "execution_count": null,
   "id": "2cdbe705-2ce6-4d4c-905e-efde6b11854d",
   "metadata": {},
   "outputs": [],
   "source": []
  }
 ],
 "metadata": {
  "kernelspec": {
   "display_name": "Python 3 (ipykernel)",
   "language": "python",
   "name": "python3"
  },
  "language_info": {
   "codemirror_mode": {
    "name": "ipython",
    "version": 3
   },
   "file_extension": ".py",
   "mimetype": "text/x-python",
   "name": "python",
   "nbconvert_exporter": "python",
   "pygments_lexer": "ipython3",
   "version": "3.11.13"
  }
 },
 "nbformat": 4,
 "nbformat_minor": 5
}
