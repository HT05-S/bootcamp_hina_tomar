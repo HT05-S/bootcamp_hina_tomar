{
 "cells": [
  {
   "cell_type": "markdown",
   "id": "0bd5f4b2-08e4-45e2-b933-400129b4ea73",
   "metadata": {},
   "source": [
    "Homework Sheet — Stage 04: Data Acquisition and Ingestion"
   ]
  },
  {
   "cell_type": "code",
   "execution_count": 1,
   "id": "e277a047-0858-4a6b-b371-1db2f7e40f96",
   "metadata": {},
   "outputs": [
    {
     "name": "stdout",
     "output_type": "stream",
     "text": [
      "ALPHAVANTAGE_API_KEY loaded? True\n"
     ]
    }
   ],
   "source": [
    "import os, pathlib, datetime as dt\n",
    "import requests\n",
    "import pandas as pd\n",
    "from bs4 import BeautifulSoup\n",
    "from dotenv import load_dotenv\n",
    "\n",
    "RAW = pathlib.Path('data/raw'); RAW.mkdir(parents=True, exist_ok=True)\n",
    "load_dotenv(); print('ALPHAVANTAGE_API_KEY loaded?', bool(os.getenv('ALPHAVANTAGE_API_KEY')))"
   ]
  },
  {
   "cell_type": "markdown",
   "id": "ee3555de-afd0-42b2-817f-335a1c16806c",
   "metadata": {},
   "source": [
    "PART 1: API PULL"
   ]
  },
  {
   "cell_type": "code",
   "execution_count": 2,
   "id": "61f8da21-e2ea-4a7e-b450-e0f3a5563e70",
   "metadata": {},
   "outputs": [],
   "source": [
    "def ts():\n",
    "    return dt.datetime.now().strftime('%Y%m%d-%H%M%S')\n",
    "\n",
    "def save_csv(df: pd.DataFrame, prefix: str, **meta):\n",
    "    mid = '_'.join([f\"{k}-{v}\" for k,v in meta.items()])\n",
    "    path = RAW / f\"{prefix}_{mid}_{ts()}.csv\"\n",
    "    df.to_csv(path, index=False)\n",
    "    print('Saved', path)\n",
    "    return path\n",
    "\n",
    "def validate(df: pd.DataFrame, required):\n",
    "    missing = [c for c in required if c not in df.columns]\n",
    "    return {'missing': missing, 'shape': df.shape, 'na_total': int(df.isna().sum().sum())}"
   ]
  },
  {
   "cell_type": "code",
   "execution_count": 6,
   "id": "a78712a4-c314-462a-9735-974a8fc5289d",
   "metadata": {},
   "outputs": [
    {
     "name": "stdout",
     "output_type": "stream",
     "text": [
      "{'Meta Data': {'1. Information': 'Daily Prices (open, high, low, close) and Volumes', '2. Symbol': 'IBM', '3. Last Refreshed': '2025-08-20', '4. Output Size': 'Compact', '5. Time Zone': 'US/Eastern'}, 'Time Series (Daily)': {'2025-08-20': {'1. open': '242.1100', '2. high': '242.8800', '3. low': '240.3400', '4. close': '242.5500', '5. volume': '3209751'}, '2025-08-19': {'1. open': '240.0000', '2. high': '242.8300', '3. low': '239.4900', '4. close': '241.2800', '5. volume': '3328305'}, '2025-08-18': {'1. open': '239.5700', '2. high': '241.4200', '3. low': '239.1158', '4. close': '239.4500', '5. volume': '3569594'}, '2025-08-15': {'1. open': '237.6100', '2. high': '240.6200', '3. low': '236.7700', '4. close': '239.7200', '5. volume': '4344322'}, '2025-08-14': {'1. open': '238.2500', '2. high': '239.0000', '3. low': '235.6200', '4. close': '237.1100', '5. volume': '4556725'}, '2025-08-13': {'1. open': '236.2000', '2. high': '240.8411', '3. low': '236.2000', '4. close': '240.0700', '5. volume': '5663562'}, '2025-08-12': {'1. open': '236.5300', '2. high': '237.9600', '3. low': '233.3600', '4. close': '234.7700', '5. volume': '8800597'}, '2025-08-11': {'1. open': '242.2400', '2. high': '243.1500', '3. low': '234.7000', '4. close': '236.3000', '5. volume': '9381960'}, '2025-08-08': {'1. open': '248.8800', '2. high': '249.4800', '3. low': '241.6500', '4. close': '242.2700', '5. volume': '6828390'}, '2025-08-07': {'1. open': '252.8100', '2. high': '255.0000', '3. low': '248.8750', '4. close': '250.1600', '5. volume': '6251285'}, '2025-08-06': {'1. open': '251.5300', '2. high': '254.3200', '3. low': '249.2800', '4. close': '252.2800', '5. volume': '3692105'}, '2025-08-05': {'1. open': '252.0000', '2. high': '252.8000', '3. low': '248.9950', '4. close': '250.6700', '5. volume': '5823016'}, '2025-08-04': {'1. open': '251.0500', '2. high': '252.0800', '3. low': '248.1100', '4. close': '251.9800', '5. volume': '5280588'}, '2025-08-01': {'1. open': '251.4050', '2. high': '251.4791', '3. low': '245.6100', '4. close': '250.0500', '5. volume': '9683404'}, '2025-07-31': {'1. open': '259.5700', '2. high': '259.9900', '3. low': '252.2200', '4. close': '253.1500', '5. volume': '6739092'}, '2025-07-30': {'1. open': '261.6000', '2. high': '262.0000', '3. low': '258.9000', '4. close': '260.2600', '5. volume': '3718290'}, '2025-07-29': {'1. open': '264.3000', '2. high': '265.7999', '3. low': '261.0200', '4. close': '262.4100', '5. volume': '4627265'}, '2025-07-28': {'1. open': '260.3000', '2. high': '264.0000', '3. low': '259.6100', '4. close': '263.2100', '5. volume': '5192516'}, '2025-07-25': {'1. open': '260.0200', '2. high': '260.8000', '3. low': '256.3500', '4. close': '259.7200', '5. volume': '7758653'}, '2025-07-24': {'1. open': '261.2500', '2. high': '262.0486', '3. low': '252.7500', '4. close': '260.5100', '5. volume': '22647720'}, '2025-07-23': {'1. open': '284.3000', '2. high': '288.0800', '3. low': '281.4400', '4. close': '282.0100', '5. volume': '8105906'}, '2025-07-22': {'1. open': '284.7400', '2. high': '284.8800', '3. low': '281.2500', '4. close': '281.9600', '5. volume': '4824219'}, '2025-07-21': {'1. open': '286.2900', '2. high': '287.7300', '3. low': '284.3800', '4. close': '284.7100', '5. volume': '3051791'}, '2025-07-18': {'1. open': '283.3800', '2. high': '287.1600', '3. low': '282.2200', '4. close': '285.8700', '5. volume': '4478165'}, '2025-07-17': {'1. open': '281.5000', '2. high': '283.4566', '3. low': '280.9000', '4. close': '282.0000', '5. volume': '3337168'}, '2025-07-16': {'1. open': '282.7500', '2. high': '283.8700', '3. low': '279.8700', '4. close': '281.9200', '5. volume': '2804831'}, '2025-07-15': {'1. open': '283.7700', '2. high': '284.1550', '3. low': '280.7301', '4. close': '282.7000', '5. volume': '2864106'}, '2025-07-14': {'1. open': '282.8300', '2. high': '284.9250', '3. low': '281.7100', '4. close': '283.7900', '5. volume': '2857401'}, '2025-07-11': {'1. open': '285.0100', '2. high': '287.4300', '3. low': '282.9200', '4. close': '283.5900', '5. volume': '3790679'}, '2025-07-10': {'1. open': '288.9000', '2. high': '288.9000', '3. low': '282.2100', '4. close': '287.4300', '5. volume': '3489068'}, '2025-07-09': {'1. open': '291.3900', '2. high': '291.6000', '3. low': '288.6300', '4. close': '290.1400', '5. volume': '2971309'}, '2025-07-08': {'1. open': '293.1000', '2. high': '295.6100', '3. low': '289.4900', '4. close': '290.4200', '5. volume': '2925329'}, '2025-07-07': {'1. open': '292.5000', '2. high': '295.2199', '3. low': '290.3607', '4. close': '292.4700', '5. volume': '4488064'}, '2025-07-03': {'1. open': '287.9400', '2. high': '292.3200', '3. low': '287.9000', '4. close': '291.9700', '5. volume': '1853289'}, '2025-07-02': {'1. open': '290.0000', '2. high': '290.1900', '3. low': '286.9000', '4. close': '287.6500', '5. volume': '3257515'}, '2025-07-01': {'1. open': '294.5500', '2. high': '295.1081', '3. low': '290.0800', '4. close': '291.2000', '5. volume': '3272797'}, '2025-06-30': {'1. open': '290.9300', '2. high': '294.8100', '3. low': '290.0000', '4. close': '294.7800', '5. volume': '3495386'}, '2025-06-27': {'1. open': '292.9700', '2. high': '293.1200', '3. low': '288.5200', '4. close': '289.7000', '5. volume': '3562501'}, '2025-06-26': {'1. open': '291.8000', '2. high': '292.9100', '3. low': '290.1650', '4. close': '291.9300', '5. volume': '3621110'}, '2025-06-25': {'1. open': '294.4900', '2. high': '296.1600', '3. low': '289.5000', '4. close': '291.0600', '5. volume': '3862309'}, '2025-06-24': {'1. open': '290.4600', '2. high': '294.3399', '3. low': '288.4100', '4. close': '293.7900', '5. volume': '4219120'}, '2025-06-23': {'1. open': '281.6500', '2. high': '289.5800', '3. low': '280.2100', '4. close': '289.1800', '5. volume': '3786159'}, '2025-06-20': {'1. open': '279.2800', '2. high': '284.1200', '3. low': '277.2000', '4. close': '280.9700', '5. volume': '7676962'}, '2025-06-18': {'1. open': '285.0000', '2. high': '286.9100', '3. low': '282.9400', '4. close': '283.2100', '5. volume': '3534110'}, '2025-06-17': {'1. open': '281.1500', '2. high': '284.7899', '3. low': '281.0001', '4. close': '283.0500', '5. volume': '3069556'}, '2025-06-16': {'1. open': '279.3050', '2. high': '284.5000', '3. low': '278.6657', '4. close': '281.8300', '5. volume': '3685321'}, '2025-06-13': {'1. open': '278.2050', '2. high': '279.8400', '3. low': '275.8300', '4. close': '277.2200', '5. volume': '3243824'}, '2025-06-12': {'1. open': '281.5300', '2. high': '283.0600', '3. low': '279.8300', '4. close': '281.0300', '5. volume': '3418007'}, '2025-06-11': {'1. open': '276.7000', '2. high': '281.7500', '3. low': '275.1100', '4. close': '281.5200', '5. volume': '4656034'}, '2025-06-10': {'1. open': '273.1900', '2. high': '277.4700', '3. low': '272.5600', '4. close': '276.2400', '5. volume': '5163507'}, '2025-06-09': {'1. open': '268.1000', '2. high': '273.4700', '3. low': '266.7100', '4. close': '272.0800', '5. volume': '4331464'}, '2025-06-06': {'1. open': '267.9900', '2. high': '270.1700', '3. low': '267.5300', '4. close': '268.8700', '5. volume': '2495543'}, '2025-06-05': {'1. open': '265.2000', '2. high': '267.5100', '3. low': '265.1000', '4. close': '266.8600', '5. volume': '2659478'}, '2025-06-04': {'1. open': '264.9000', '2. high': '267.0000', '3. low': '264.7900', '4. close': '265.5200', '5. volume': '2588741'}, '2025-06-03': {'1. open': '263.3500', '2. high': '265.5600', '3. low': '262.5800', '4. close': '265.2000', '5. volume': '2494922'}, '2025-06-02': {'1. open': '257.8500', '2. high': '263.9760', '3. low': '257.2200', '4. close': '263.9000', '5. volume': '2831881'}, '2025-05-30': {'1. open': '258.7500', '2. high': '260.1200', '3. low': '257.1000', '4. close': '259.0600', '5. volume': '9668923'}, '2025-05-29': {'1. open': '260.7500', '2. high': '261.1300', '3. low': '256.7700', '4. close': '258.6900', '5. volume': '2295228'}, '2025-05-28': {'1. open': '263.1600', '2. high': '265.0000', '3. low': '259.9400', '4. close': '260.2400', '5. volume': '2318437'}, '2025-05-27': {'1. open': '261.0000', '2. high': '263.7869', '3. low': '259.6300', '4. close': '263.2300', '5. volume': '3284216'}, '2025-05-23': {'1. open': '258.5800', '2. high': '259.8696', '3. low': '255.7900', '4. close': '258.6300', '5. volume': '2722721'}, '2025-05-22': {'1. open': '260.7700', '2. high': '261.2711', '3. low': '257.9100', '4. close': '258.3700', '5. volume': '3091253'}, '2025-05-21': {'1. open': '264.9700', '2. high': '265.6499', '3. low': '260.4100', '4. close': '260.8700', '5. volume': '3753904'}, '2025-05-20': {'1. open': '267.4000', '2. high': '269.2800', '3. low': '265.6201', '4. close': '266.9500', '5. volume': '2437860'}, '2025-05-19': {'1. open': '265.4500', '2. high': '269.1350', '3. low': '265.0800', '4. close': '268.4100', '5. volume': '3198903'}, '2025-05-16': {'1. open': '266.3500', '2. high': '267.9800', '3. low': '264.5900', '4. close': '266.7600', '5. volume': '3817937'}, '2025-05-15': {'1. open': '259.0100', '2. high': '267.4300', '3. low': '258.6100', '4. close': '266.6800', '5. volume': '4856276'}, '2025-05-14': {'1. open': '257.6000', '2. high': '260.5500', '3. low': '256.2200', '4. close': '257.8200', '5. volume': '3635124'}, '2025-05-13': {'1. open': '254.4300', '2. high': '259.5800', '3. low': '252.8800', '4. close': '258.5900', '5. volume': '3521389'}, '2025-05-12': {'1. open': '252.5000', '2. high': '253.8100', '3. low': '244.6500', '4. close': '253.6900', '5. volume': '4609520'}, '2025-05-09': {'1. open': '252.5100', '2. high': '253.0000', '3. low': '247.6400', '4. close': '249.2000', '5. volume': '2901346'}, '2025-05-08': {'1. open': '255.0000', '2. high': '256.5200', '3. low': '253.2500', '4. close': '254.1400', '5. volume': '3637012'}, '2025-05-07': {'1. open': '249.4500', '2. high': '254.4700', '3. low': '248.8320', '4. close': '253.3700', '5. volume': '3400001'}, '2025-05-06': {'1. open': '247.7600', '2. high': '250.1900', '3. low': '246.1100', '4. close': '249.1200', '5. volume': '2900556'}, '2025-05-05': {'1. open': '243.7400', '2. high': '249.8000', '3. low': '243.6400', '4. close': '249.1800', '5. volume': '4138168'}, '2025-05-02': {'1. open': '243.1250', '2. high': '245.6900', '3. low': '241.3300', '4. close': '245.5500', '5. volume': '3731946'}, '2025-05-01': {'1. open': '241.4400', '2. high': '242.3700', '3. low': '237.9450', '4. close': '239.6600', '5. volume': '4243294'}, '2025-04-30': {'1. open': '236.7300', '2. high': '242.4700', '3. low': '234.3401', '4. close': '241.8200', '5. volume': '5142993'}, '2025-04-29': {'1. open': '237.0000', '2. high': '239.9800', '3. low': '236.1400', '4. close': '239.3900', '5. volume': '3426508'}, '2025-04-28': {'1. open': '232.8600', '2. high': '236.6300', '3. low': '232.0700', '4. close': '236.1600', '5. volume': '3653461'}, '2025-04-25': {'1. open': '228.9500', '2. high': '233.3600', '3. low': '226.3200', '4. close': '232.4100', '5. volume': '6700068'}, '2025-04-24': {'1. open': '231.1750', '2. high': '232.7800', '3. low': '224.4401', '4. close': '229.3300', '5. volume': '15428144'}, '2025-04-23': {'1. open': '246.0000', '2. high': '249.3400', '3. low': '243.6600', '4. close': '245.4800', '5. volume': '7948259'}, '2025-04-22': {'1. open': '238.5000', '2. high': '242.6400', '3. low': '238.0200', '4. close': '240.9000', '5. volume': '4232658'}, '2025-04-21': {'1. open': '238.0650', '2. high': '240.8050', '3. low': '232.9300', '4. close': '236.2200', '5. volume': '4908923'}, '2025-04-17': {'1. open': '239.6800', '2. high': '241.7750', '3. low': '237.4000', '4. close': '238.8100', '5. volume': '4635204'}, '2025-04-16': {'1. open': '240.2800', '2. high': '243.2999', '3. low': '235.8900', '4. close': '238.5700', '5. volume': '4870299'}, '2025-04-15': {'1. open': '239.5500', '2. high': '241.5300', '3. low': '238.2700', '4. close': '240.7000', '5. volume': '3363708'}, '2025-04-14': {'1. open': '239.7700', '2. high': '241.7700', '3. low': '236.7300', '4. close': '239.0600', '5. volume': '3321717'}, '2025-04-11': {'1. open': '229.7200', '2. high': '237.5800', '3. low': '227.5100', '4. close': '235.4800', '5. volume': '4325895'}, '2025-04-10': {'1. open': '231.0000', '2. high': '232.5700', '3. low': '222.0200', '4. close': '229.5500', '5. volume': '5656108'}, '2025-04-09': {'1. open': '217.1200', '2. high': '236.3000', '3. low': '215.1636', '4. close': '235.3100', '5. volume': '7302808'}, '2025-04-08': {'1. open': '232.5600', '2. high': '233.0500', '3. low': '217.2800', '4. close': '221.0300', '5. volume': '6849996'}, '2025-04-07': {'1. open': '219.2400', '2. high': '232.2900', '3. low': '214.5000', '4. close': '225.7800', '5. volume': '7797889'}, '2025-04-04': {'1. open': '238.0000', '2. high': '240.1600', '3. low': '226.8800', '4. close': '227.4800', '5. volume': '7407096'}, '2025-04-03': {'1. open': '242.7100', '2. high': '250.6100', '3. low': '242.5300', '4. close': '243.4900', '5. volume': '5309626'}, '2025-04-02': {'1. open': '248.2200', '2. high': '252.7900', '3. low': '247.2300', '4. close': '249.9800', '5. volume': '4080832'}, '2025-04-01': {'1. open': '248.0300', '2. high': '250.6200', '3. low': '243.4900', '4. close': '250.3400', '5. volume': '4413139'}, '2025-03-31': {'1. open': '242.7400', '2. high': '250.8900', '3. low': '242.4900', '4. close': '248.6600', '5. volume': '6794972'}, '2025-03-28': {'1. open': '246.2700', '2. high': '247.5700', '3. low': '242.0700', '4. close': '244.0000', '5. volume': '3125594'}}}\n"
     ]
    },
    {
     "data": {
      "text/plain": [
       "{'missing': [], 'shape': (100, 2), 'na_total': 0}"
      ]
     },
     "execution_count": 6,
     "metadata": {},
     "output_type": "execute_result"
    }
   ],
   "source": [
    "SYMBOL = 'IBM'\n",
    "USE_ALPHA = bool(os.getenv('ALPHAVANTAGE_API_KEY'))\n",
    "\n",
    "if USE_ALPHA:\n",
    "    url = 'https://www.alphavantage.co/query'\n",
    "    params = {\n",
    "        'function':'TIME_SERIES_DAILY',\n",
    "        'symbol':SYMBOL,\n",
    "        'outputsize':'compact',\n",
    "        'apikey': os.getenv('ALPHAVANTAGE_API_KEY')\n",
    "    }\n",
    "    r = requests.get(url, params=params, timeout=30)\n",
    "    r.raise_for_status()\n",
    "    js = r.json()\n",
    "    print(js)\n",
    "    key = [k for k in js if 'Time Series' in k][0]\n",
    "    \n",
    "    # Use '4. close' instead of adjusted close\n",
    "    df_api = pd.DataFrame(js[key]).T.reset_index().rename(\n",
    "        columns={'index':'date','4. close':'close'}\n",
    "    )[['date','close']]\n",
    "    df_api['date'] = pd.to_datetime(df_api['date'])\n",
    "    df_api['close'] = pd.to_numeric(df_api['close'])\n",
    "\n",
    "else:\n",
    "    import yfinance as yf\n",
    "    df_api = yf.download(SYMBOL, period='3mo', interval='1d').reset_index()[['Date','Close']]\n",
    "    df_api.columns = ['date','close']\n",
    "\n",
    "# Validate\n",
    "v_api = validate(df_api, ['date','close'])\n",
    "v_api"
   ]
  },
  {
   "cell_type": "code",
   "execution_count": null,
   "id": "1509ab93-9448-459d-8fbb-ac517c0d05c0",
   "metadata": {},
   "outputs": [],
   "source": [
    "SAVING THE API RAW CSV TO data/raw"
   ]
  },
  {
   "cell_type": "code",
   "execution_count": 7,
   "id": "1fbdfcae-7951-49c6-8ada-f0bfc7ecaf22",
   "metadata": {},
   "outputs": [
    {
     "name": "stdout",
     "output_type": "stream",
     "text": [
      "Saved data\\raw\\api_source-alpha_symbol-IBM_20250821-041332.csv\n",
      "data\\raw\\api_source-alpha_symbol-IBM_20250821-041332.csv\n"
     ]
    }
   ],
   "source": [
    "_ = save_csv(df_api.sort_values('date'), prefix='api', source='alpha' if USE_ALPHA else 'yfinance', symbol=SYMBOL)\n",
    "print(_)"
   ]
  },
  {
   "cell_type": "markdown",
   "id": "95f58603-4c8f-4169-a60c-a9cde5754ff1",
   "metadata": {},
   "source": [
    "SCRAPING FROM WEB USING BEAUTIFULSOUP"
   ]
  },
  {
   "cell_type": "code",
   "execution_count": 14,
   "id": "6a7ab591-a8b0-4cc4-8429-597b57fc868a",
   "metadata": {},
   "outputs": [
    {
     "name": "stdout",
     "output_type": "stream",
     "text": [
      "https://www.google.com/finance/quote/GOOGL:NASDAQ\n",
      "                                                (USD)  \\\n",
      "0   RevenueThe total amount of income generated by...   \n",
      "1   Operating expenseRepresents the total incurred...   \n",
      "2   Net incomeCompany’s earnings for a period net ...   \n",
      "3   Net profit marginMeasures how much net income ...   \n",
      "4   Earnings per shareRepresents the company's pro...   \n",
      "5   EBITDAEarnings before interest, taxes, depreci...   \n",
      "6   Effective tax rateThe percent of their income ...   \n",
      "7                                               (USD)   \n",
      "8   Cash and short-term investmentsInvestments tha...   \n",
      "9   Total assetsThe total amount of assets owned b...   \n",
      "10  Total liabilitiesSum of the combined debts a c...   \n",
      "11  Total equityThe value of subtracting the total...   \n",
      "12  Shares outstandingTotal number of common share...   \n",
      "13  Price to bookA ratio used to determine if a co...   \n",
      "14  Return on assetsA financial ratio that shows a...   \n",
      "15  Return on capitalCompany’s return above the av...   \n",
      "16                                              (USD)   \n",
      "17  Net incomeCompany’s earnings for a period net ...   \n",
      "18  Cash from operationsNet cash used or generated...   \n",
      "19  Cash from investingNet cash used or generated ...   \n",
      "20  Cash from financingNet cash used or generated ...   \n",
      "21  Net change in cashThe amount by which a compan...   \n",
      "22  Free cash flowAmount of cash a business has af...   \n",
      "\n",
      "   Jun 2025infoFiscal Q2 2025 ended 6/30/25. Reported on 7/23/25.  Y/Y change  \n",
      "0                                              96.43B                  13.79%  \n",
      "1                                              26.12B                  19.75%  \n",
      "2                                              28.20B                  19.38%  \n",
      "3                                               29.24                   4.92%  \n",
      "4                                                2.31                  22.22%  \n",
      "5                                              36.27B                  16.50%  \n",
      "6                                              16.91%                       —  \n",
      "7   Jun 2025infoFiscal Q2 2025 ended 6/30/25. Repo...              Y/Y change  \n",
      "8                                              95.15B                  -5.54%  \n",
      "9                                             502.05B                  21.04%  \n",
      "10                                            139.14B                  22.03%  \n",
      "11                                            362.92B                       —  \n",
      "12                                             12.09B                       —  \n",
      "13                                               6.72                       —  \n",
      "14                                             16.00%                       —  \n",
      "15                                             20.09%                       —  \n",
      "16  Jun 2025infoFiscal Q2 2025 ended 6/30/25. Repo...              Y/Y change  \n",
      "17                                             28.20B                  19.38%  \n",
      "18                                             27.75B                   4.16%  \n",
      "19                                            -24.54B                -782.56%  \n",
      "20                                             -5.83B                  72.08%  \n",
      "21                                             -2.23B                -181.55%  \n",
      "22                                           -888.75M                -108.92%  \n"
     ]
    },
    {
     "data": {
      "text/plain": [
       "{'missing': [], 'shape': (23, 3), 'na_total': 0}"
      ]
     },
     "execution_count": 14,
     "metadata": {},
     "output_type": "execute_result"
    }
   ],
   "source": [
    "stock_ticker = \"GOOGL:NASDAQ\"\n",
    "google_finance_quote_url = f\"https://www.google.com/finance/quote/{stock_ticker}\"\n",
    "print(google_finance_quote_url)\n",
    "\n",
    "headers = {'User-Agent':'AFE-Homework/1.0'}\n",
    "try:\n",
    "    resp = requests.get(google_finance_quote_url, headers=headers, timeout=30); resp.raise_for_status()\n",
    "    soup = BeautifulSoup(resp.text, 'html.parser')\n",
    "    rows = [[c.get_text(strip=True) for c in tr.find_all(['th','td'])] for tr in soup.find_all('tr')]\n",
    "    header, *data = [r for r in rows if r]\n",
    "    df_scrape = pd.DataFrame(data, columns=header)\n",
    "    print(df_scrape)\n",
    "except Exception as e:\n",
    "    print('Scrape failed, using inline demo table:', e)\n",
    "    html = '<table><tr><th>Ticker</th><th>Price</th></tr><tr><td>AAA</td><td>101.2</td></tr></table>'\n",
    "    soup = BeautifulSoup(html, 'html.parser')\n",
    "    rows = [[c.get_text(strip=True) for c in tr.find_all(['th','td'])] for tr in soup.find_all('tr')]\n",
    "    header, *data = [r for r in rows if r]\n",
    "    df_scrape = pd.DataFrame(data, columns=header)\n",
    "\n",
    "if 'Price' in df_scrape.columns:\n",
    "    df_scrape['Price'] = pd.to_numeric(df_scrape['Price'], errors='coerce')\n",
    "v_scrape = validate(df_scrape, list(df_scrape.columns)); v_scrape"
   ]
  },
  {
   "cell_type": "markdown",
   "id": "6e72bc25-f912-447e-bb85-a4ba91373077",
   "metadata": {},
   "source": [
    "SAVING THE SCRAPE RAW CSV TO data/raw"
   ]
  },
  {
   "cell_type": "code",
   "execution_count": 15,
   "id": "5ad3aedd-e355-40ad-9d81-cca91fe44a92",
   "metadata": {},
   "outputs": [
    {
     "name": "stdout",
     "output_type": "stream",
     "text": [
      "Saved data\\raw\\scrape_site-google_finance_stock_ticker-GOOGL:NASDAQ_20250821-041759.csv\n",
      "data\\raw\\scrape_site-google_finance_stock_ticker-GOOGL:NASDAQ_20250821-041759.csv\n"
     ]
    }
   ],
   "source": [
    "_ = save_csv(df_scrape, prefix='scrape', site='google_finance', stock_ticker='GOOGL:NASDAQ')\n",
    "print(_)"
   ]
  },
  {
   "cell_type": "code",
   "execution_count": null,
   "id": "0c48768f-c854-4026-ab82-085d17284100",
   "metadata": {},
   "outputs": [],
   "source": []
  }
 ],
 "metadata": {
  "kernelspec": {
   "display_name": "Python 3 (ipykernel)",
   "language": "python",
   "name": "python3"
  },
  "language_info": {
   "codemirror_mode": {
    "name": "ipython",
    "version": 3
   },
   "file_extension": ".py",
   "mimetype": "text/x-python",
   "name": "python",
   "nbconvert_exporter": "python",
   "pygments_lexer": "ipython3",
   "version": "3.11.13"
  }
 },
 "nbformat": 4,
 "nbformat_minor": 5
}
