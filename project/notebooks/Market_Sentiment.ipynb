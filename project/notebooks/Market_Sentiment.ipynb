{
 "cells": [
  {
   "cell_type": "markdown",
   "id": "0dc08848-9f61-4040-93f5-d98fe145acea",
   "metadata": {},
   "source": [
    "## SETUP"
   ]
  },
  {
   "cell_type": "code",
   "execution_count": null,
   "id": "26833f3a-aeff-4dc5-b6b8-9717dd16f221",
   "metadata": {},
   "outputs": [],
   "source": [
    "# Cell 1: Imports, settings, reproducibility\n",
    "import os\n",
    "import random\n",
    "from pprint import pprint\n",
    "from dataclasses import dataclass\n",
    "from typing import List, Dict, Tuple, Optional\n",
    "\n",
    "import numpy as np\n",
    "import pandas as pd\n",
    "import torch\n",
    "\n",
    "# plotting\n",
    "import matplotlib.pyplot as plt\n",
    "import seaborn as sns\n",
    "\n",
    "# Hugging Face\n",
    "from datasets import load_dataset, Dataset, DatasetDict\n",
    "from transformers import (AutoTokenizer, AutoModelForSequenceClassification,\n",
    "                          DataCollatorWithPadding, TrainingArguments, Trainer)\n",
    "import evaluate\n",
    "\n",
    "# sklearn utilities\n",
    "from sklearn.model_selection import train_test_split\n",
    "from sklearn.metrics import classification_report, confusion_matrix, brier_score_loss\n",
    "\n",
    "# dotenv for tokens\n",
    "from dotenv import load_dotenv\n",
    "\n"
   ]
  },
  {
   "cell_type": "code",
   "execution_count": 3,
   "id": "d6bfa678-a8b2-4d01-bce8-3c783071a78d",
   "metadata": {},
   "outputs": [
    {
     "name": "stdout",
     "output_type": "stream",
     "text": [
      "ALPHAVANTAGE_API_KEY loaded? True\n"
     ]
    }
   ],
   "source": [
    "# Loading API Key\n",
    "load_dotenv(); print('ALPHAVANTAGE_API_KEY loaded?', bool(os.getenv('ALPHAVANTAGE_API_KEY')))"
   ]
  },
  {
   "cell_type": "code",
   "execution_count": null,
   "id": "6c46cfa9-366f-4aed-b5fb-9c80aaa5d5c9",
   "metadata": {},
   "outputs": [],
   "source": [
    "# reproducibility\n",
    "SEED = 42\n",
    "random.seed(SEED)\n",
    "np.random.seed(SEED)\n",
    "torch.manual_seed(SEED)\n",
    "if torch.cuda.is_available():\n",
    "    torch.cuda.manual_seed_all(SEED)\n"
   ]
  },
  {
   "cell_type": "code",
   "execution_count": null,
   "id": "2cc0e9fc-5d3d-474b-80b2-3b9b5f829dce",
   "metadata": {},
   "outputs": [
    {
     "name": "stdout",
     "output_type": "stream",
     "text": [
      "Device: cpu\n"
     ]
    }
   ],
   "source": [
    "# Device\n",
    "DEVICE = \"cuda\" if torch.cuda.is_available() else \"cpu\"\n",
    "print(\"Device:\", DEVICE)"
   ]
  },
  {
   "cell_type": "code",
   "execution_count": null,
   "id": "4b6eb7e6-c072-44ab-9b8f-b5a0ac22921f",
   "metadata": {},
   "outputs": [],
   "source": [
    "# Cell 2: Configuration (edit paths / hyperparams here)\n",
    "DATASET_NAME = \"Minty161/finbert_dataset_study\"\n",
    "BASE_MODEL = \"ProsusAI/finbert\"   # domain-specialized FinBERT model\n",
    "MODEL_OUTPUT_DIR = \"finbert_minty_model_v1\"\n",
    "MAX_LENGTH = 256                 # max tokens (reasonable for headlines/sentences)\n",
    "BATCH_SIZE = 8                   # adjust to GPU/CPU\n",
    "EPOCHS = 3\n",
    "LR = 2e-5\n",
    "\n",
    "# environment tokens\n",
    "HF_TOKEN = os.getenv(\"HF_TOKEN\")           # optional: set in .env if dataset private\n",
    "ALPHAVANTAGE_API_KEY = os.getenv(\"ALPHAVANTAGE_API_KEY\")  # optional for Streamlit live news"
   ]
  },
  {
   "cell_type": "code",
   "execution_count": null,
   "id": "50d01e4a-8c40-4517-a17d-5d39e7efa2f8",
   "metadata": {},
   "outputs": [
    {
     "name": "stdout",
     "output_type": "stream",
     "text": [
      "Loading dataset: Minty161/finbert_dataset_study\n",
      "Available splits: ['train', 'validation']\n",
      " - train: 2000 rows; columns: ['text', 'label']\n",
      " - validation: 500 rows; columns: ['text', 'label']\n"
     ]
    }
   ],
   "source": [
    "# Cell 3: 1) Load dataset (defensive) and inspect splits\n",
    "print(\"Loading dataset:\", DATASET_NAME)\n",
    "try:\n",
    "    ds_all = load_dataset(DATASET_NAME, use_auth_token=HF_TOKEN if HF_TOKEN else None)\n",
    "except Exception as e:\n",
    "    raise RuntimeError(f\"Failed to load dataset {DATASET_NAME}. Set HF_TOKEN in .env if private. Error: {e}\")\n",
    "\n",
    "print(\"Available splits:\", list(ds_all.keys()))\n",
    "for k, ds in ds_all.items():\n",
    "    print(f\" - {k}: {len(ds)} rows; columns: {ds.column_names}\")"
   ]
  },
  {
   "cell_type": "code",
   "execution_count": 7,
   "id": "2a82b82b-3036-424a-8884-45f216b5a715",
   "metadata": {},
   "outputs": [
    {
     "name": "stdout",
     "output_type": "stream",
     "text": [
      "Selected web split: train\n",
      "Validation split: validation\n"
     ]
    }
   ],
   "source": [
    "# Cell 4: 2) Choose splits according to your instruction:\n",
    "# Use the split whose name contains \"web\" (websites) as source for 80:20 train/test.\n",
    "# Keep 'validation' split whole for validation if present.\n",
    "\n",
    "def find_web_split(ds_dict: DatasetDict) -> str:\n",
    "    for key in ds_dict.keys():\n",
    "        if \"web\" in key.lower():\n",
    "            return key\n",
    "    # fallbacks\n",
    "    if \"websites\" in ds_dict:\n",
    "        return \"websites\"\n",
    "    if \"train\" in ds_dict and \"validation\" not in ds_dict:\n",
    "        return \"train\"\n",
    "    # otherwise return first\n",
    "    return list(ds_dict.keys())[0]\n",
    "\n",
    "web_split_key = find_web_split(ds_all)\n",
    "val_split_key = \"validation\" if \"validation\" in ds_all else None\n",
    "\n",
    "print(\"Selected web split:\", web_split_key)\n",
    "print(\"Validation split:\", val_split_key)\n",
    "web_ds = ds_all[web_split_key]\n",
    "val_ds = ds_all[val_split_key] if val_split_key else None"
   ]
  },
  {
   "cell_type": "code",
   "execution_count": 8,
   "id": "e0904acd-2f90-4c3a-bcbe-7253dd2daf66",
   "metadata": {},
   "outputs": [
    {
     "name": "stdout",
     "output_type": "stream",
     "text": [
      "Text column: text Label column: label\n",
      "Detected labels: [0, 1, 2]\n",
      "label2id: {0: 0, 1: 1, 2: 2}\n"
     ]
    }
   ],
   "source": [
    "# Cell 5: 3) Detect text column and label column, build label mapping.\n",
    "# This is robust for different dataset column conventions.\n",
    "\n",
    "def detect_text_col(ds: Dataset) -> str:\n",
    "    for cand in (\"text\",\"sentence\",\"headline\",\"title\",\"body\",\"article\"):\n",
    "        if cand in ds.column_names:\n",
    "            return cand\n",
    "    # fallback: find first string column\n",
    "    for c in ds.column_names:\n",
    "        first_val = ds[0][c]\n",
    "        if isinstance(first_val, str) and len(first_val.split()) > 2:\n",
    "            return c\n",
    "    raise RuntimeError(\"Could not detect text column; inspect dataset.column_names\")\n",
    "\n",
    "def detect_label_col(ds: Dataset) -> str:\n",
    "    # common names\n",
    "    for cand in (\"label\",\"labels\",\"sentiment\",\"polarity\",\"target\"):\n",
    "        if cand in ds.column_names:\n",
    "            return cand\n",
    "    # fallback to any non-text small-cardinality column\n",
    "    non_text_cols = [c for c in ds.column_names if c not in (detect_text_col(ds),)]\n",
    "    for c in non_text_cols:\n",
    "        try:\n",
    "            uniq = ds.unique(c)\n",
    "            if 1 < len(uniq) <= 20:\n",
    "                return c\n",
    "        except Exception:\n",
    "            continue\n",
    "    raise RuntimeError(\"Could not detect label column automatically. Please specify.\")\n",
    "\n",
    "text_col = detect_text_col(web_ds)\n",
    "label_col = detect_label_col(web_ds)\n",
    "print(\"Text column:\", text_col, \"Label column:\", label_col)\n",
    "\n",
    "# Build mapping label -> id and id -> label\n",
    "labels_union = set(web_ds.unique(label_col))\n",
    "if val_ds is not None:\n",
    "    labels_union |= set(val_ds.unique(label_col))\n",
    "labels_sorted = sorted(list(labels_union))\n",
    "label2id = {lab: i for i, lab in enumerate(labels_sorted)}\n",
    "id2label = {i: lab for lab, i in label2id.items()}\n",
    "\n",
    "print(\"Detected labels:\", labels_sorted)\n",
    "print(\"label2id:\", label2id)"
   ]
  },
  {
   "cell_type": "code",
   "execution_count": 9,
   "id": "05396130-73b4-44d9-b8c7-116f66e0067c",
   "metadata": {},
   "outputs": [],
   "source": [
    "# Cell 6: 4) Map label values to integer `labels` column (for HF Trainer) on necessary splits.\n",
    "def map_labels(ds: Dataset, label_col: str, label2id: dict) -> Dataset:\n",
    "    def f(ex):\n",
    "        v = ex[label_col]\n",
    "        # if it's already numeric and in mapping, accept it\n",
    "        if isinstance(v, int) and v in label2id.values():\n",
    "            ex[\"labels\"] = int(v)\n",
    "        else:\n",
    "            ex[\"labels\"] = int(label2id[v])\n",
    "        return ex\n",
    "    return ds.map(f)\n",
    "\n",
    "web_ds = map_labels(web_ds, label_col, label2id)\n",
    "if val_ds is not None:\n",
    "    val_ds = map_labels(val_ds, label_col, label2id)"
   ]
  },
  {
   "cell_type": "code",
   "execution_count": 10,
   "id": "c0e56699-dfe3-428b-8551-c5b95724cdcc",
   "metadata": {},
   "outputs": [
    {
     "name": "stdout",
     "output_type": "stream",
     "text": [
      "Train size: 1600; Test size: 400; Val size: 500\n"
     ]
    }
   ],
   "source": [
    "# Cell 7: 5) Create stratified 80:20 train/test split from web_ds (stratify on 'labels')\n",
    "# Use HF train_test_split if available (supports stratify_by_column), otherwise sklearn.\n",
    "\n",
    "# Create indices for stratified split\n",
    "idx = np.arange(len(web_ds))\n",
    "train_idx, test_idx = train_test_split(\n",
    "    idx, test_size=0.2, random_state=SEED, stratify=web_ds[\"labels\"]\n",
    ")\n",
    "\n",
    "train_ds = web_ds.select(train_idx)\n",
    "test_ds = web_ds.select(test_idx)\n",
    "\n",
    "print(f\"Train size: {len(train_ds)}; Test size: {len(test_ds)}; Val size: {len(val_ds) if val_ds is not None else 'N/A'}\")"
   ]
  },
  {
   "cell_type": "code",
   "execution_count": 11,
   "id": "f62ef1ca-43c2-4ec6-9bfc-26aab3005d1b",
   "metadata": {},
   "outputs": [],
   "source": [
    "\n",
    "\n",
    "# from datasets import ClassLabel\n",
    "# Convert labels column to ClassLabel\n",
    "# num_classes = len(set(web_ds[\"labels\"]))\n",
    "# class_label = ClassLabel(num_classes=num_classes, names=[str(i) for i in range(num_classes)])\n",
    "# web_ds = web_ds.cast_column(\"labels\", class_label)\n",
    "\n",
    "# Now you can stratify\n",
    "# ds_split = web_ds.train_test_split(test_size=0.2, stratify_by_column=\"labels\", seed=SEED)\n",
    "# train_ds = ds_split[\"train\"]\n",
    "# test_ds = ds_split[\"test\"]\n",
    "\n",
    "# print(f\"Train size: {len(train_ds)}; Test size: {len(test_ds)}; Val size: {len(val_ds) if val_ds is not None else 'N/A'}\")"
   ]
  },
  {
   "cell_type": "code",
   "execution_count": 12,
   "id": "a54cef99-808e-4f46-b3bb-c867d11eb40c",
   "metadata": {},
   "outputs": [
    {
     "data": {
      "application/vnd.jupyter.widget-view+json": {
       "model_id": "b412e47ce4d04ed1ab3e928554b0868a",
       "version_major": 2,
       "version_minor": 0
      },
      "text/plain": [
       "Map:   0%|          | 0/400 [00:00<?, ? examples/s]"
      ]
     },
     "metadata": {},
     "output_type": "display_data"
    }
   ],
   "source": [
    "# Cell 8: 6) Tokenizer + Tokenization function\n",
    "tokenizer = AutoTokenizer.from_pretrained(BASE_MODEL, use_fast=True)\n",
    "\n",
    "def tokenize_batch(batch):\n",
    "    return tokenizer(batch[text_col], truncation=True, padding=False, max_length=MAX_LENGTH)\n",
    "\n",
    "# tokenize datasets (remove unused columns to keep datasets light)\n",
    "remove_cols_train = [c for c in train_ds.column_names if c not in (\"labels\",)]\n",
    "remove_cols_test = [c for c in test_ds.column_names if c not in (\"labels\",)]\n",
    "train_tok = train_ds.map(tokenize_batch, batched=True, remove_columns=remove_cols_train)\n",
    "test_tok = test_ds.map(tokenize_batch, batched=True, remove_columns=remove_cols_test)\n",
    "val_tok = val_ds.map(tokenize_batch, batched=True, remove_columns=[c for c in val_ds.column_names if c not in (\"labels\",)]) if val_ds is not None else None"
   ]
  },
  {
   "cell_type": "code",
   "execution_count": 13,
   "id": "ca9d9520-94c3-4931-8659-b35a00c29edf",
   "metadata": {},
   "outputs": [
    {
     "name": "stdout",
     "output_type": "stream",
     "text": [
      "Requirement already satisfied: hf_xet in c:\\users\\hinat\\.conda\\envs\\fe-course\\lib\\site-packages (1.1.9)\n"
     ]
    },
    {
     "data": {
      "text/plain": [
       "BertForSequenceClassification(\n",
       "  (bert): BertModel(\n",
       "    (embeddings): BertEmbeddings(\n",
       "      (word_embeddings): Embedding(30522, 768, padding_idx=0)\n",
       "      (position_embeddings): Embedding(512, 768)\n",
       "      (token_type_embeddings): Embedding(2, 768)\n",
       "      (LayerNorm): LayerNorm((768,), eps=1e-12, elementwise_affine=True)\n",
       "      (dropout): Dropout(p=0.1, inplace=False)\n",
       "    )\n",
       "    (encoder): BertEncoder(\n",
       "      (layer): ModuleList(\n",
       "        (0-11): 12 x BertLayer(\n",
       "          (attention): BertAttention(\n",
       "            (self): BertSdpaSelfAttention(\n",
       "              (query): Linear(in_features=768, out_features=768, bias=True)\n",
       "              (key): Linear(in_features=768, out_features=768, bias=True)\n",
       "              (value): Linear(in_features=768, out_features=768, bias=True)\n",
       "              (dropout): Dropout(p=0.1, inplace=False)\n",
       "            )\n",
       "            (output): BertSelfOutput(\n",
       "              (dense): Linear(in_features=768, out_features=768, bias=True)\n",
       "              (LayerNorm): LayerNorm((768,), eps=1e-12, elementwise_affine=True)\n",
       "              (dropout): Dropout(p=0.1, inplace=False)\n",
       "            )\n",
       "          )\n",
       "          (intermediate): BertIntermediate(\n",
       "            (dense): Linear(in_features=768, out_features=3072, bias=True)\n",
       "            (intermediate_act_fn): GELUActivation()\n",
       "          )\n",
       "          (output): BertOutput(\n",
       "            (dense): Linear(in_features=3072, out_features=768, bias=True)\n",
       "            (LayerNorm): LayerNorm((768,), eps=1e-12, elementwise_affine=True)\n",
       "            (dropout): Dropout(p=0.1, inplace=False)\n",
       "          )\n",
       "        )\n",
       "      )\n",
       "    )\n",
       "    (pooler): BertPooler(\n",
       "      (dense): Linear(in_features=768, out_features=768, bias=True)\n",
       "      (activation): Tanh()\n",
       "    )\n",
       "  )\n",
       "  (dropout): Dropout(p=0.1, inplace=False)\n",
       "  (classifier): Linear(in_features=768, out_features=3, bias=True)\n",
       ")"
      ]
     },
     "execution_count": 13,
     "metadata": {},
     "output_type": "execute_result"
    }
   ],
   "source": [
    "# Cell 9: 7) Initialize model\n",
    "! pip install hf_xet\n",
    "num_labels = len(label2id)\n",
    "model = AutoModelForSequenceClassification.from_pretrained(\n",
    "    BASE_MODEL,\n",
    "    num_labels=num_labels,\n",
    "    id2label=id2label,\n",
    "    label2id=label2id\n",
    ")\n",
    "model.to(DEVICE)"
   ]
  },
  {
   "cell_type": "code",
   "execution_count": 16,
   "id": "79bad236-dfaa-4915-95ca-249bafd593a4",
   "metadata": {},
   "outputs": [],
   "source": [
    "# Cell 10: 8) TrainingArguments and Trainer config\n",
    "data_collator = DataCollatorWithPadding(tokenizer=tokenizer)\n",
    "metric_acc = evaluate.load(\"accuracy\")\n",
    "metric_f1 = evaluate.load(\"f1\")\n",
    "\n",
    "def compute_metrics(eval_pred):\n",
    "    logits, labels = eval_pred\n",
    "    preds = np.argmax(logits, axis=-1)\n",
    "    acc = metric_acc.compute(predictions=preds, references=labels)[\"accuracy\"]\n",
    "    f1m = metric_f1.compute(predictions=preds, references=labels, average=\"macro\")[\"f1\"]\n",
    "    return {\"accuracy\": acc, \"f1_macro\": f1m}\n",
    "\n",
    "training_args = TrainingArguments(\n",
    "    output_dir=\"runs/finbert_minty_v1\",\n",
    "    eval_strategy=\"epoch\" if val_tok is not None else \"no\",\n",
    "    save_strategy=\"epoch\",\n",
    "    learning_rate=LR,\n",
    "    per_device_train_batch_size=BATCH_SIZE,\n",
    "    per_device_eval_batch_size=32,\n",
    "    num_train_epochs=EPOCHS,\n",
    "    weight_decay=0.01,\n",
    "    load_best_model_at_end=True if val_tok is not None else False,\n",
    "    metric_for_best_model=\"f1_macro\" if val_tok is not None else None,\n",
    "    fp16=torch.cuda.is_available(),\n",
    "    seed=SEED,\n",
    "    push_to_hub=False,\n",
    "    report_to=\"none\"\n",
    ")\n",
    "\n",
    "trainer = Trainer(\n",
    "    model=model,\n",
    "    args=training_args,\n",
    "    train_dataset=train_tok,\n",
    "    eval_dataset=val_tok if val_tok is not None else None,\n",
    "    processing_class=tokenizer,\n",
    "    data_collator=data_collator,\n",
    "    compute_metrics=compute_metrics\n",
    ")"
   ]
  },
  {
   "cell_type": "code",
   "execution_count": 17,
   "id": "214f93a0-1008-43df-a084-06bb3008f829",
   "metadata": {},
   "outputs": [
    {
     "name": "stderr",
     "output_type": "stream",
     "text": [
      "C:\\Users\\hinat\\.conda\\envs\\fe-course\\Lib\\site-packages\\torch\\utils\\data\\dataloader.py:666: UserWarning: 'pin_memory' argument is set as true but no accelerator is found, then device pinned memory won't be used.\n",
      "  warnings.warn(warn_msg)\n"
     ]
    },
    {
     "data": {
      "text/html": [
       "\n",
       "    <div>\n",
       "      \n",
       "      <progress value='600' max='600' style='width:300px; height:20px; vertical-align: middle;'></progress>\n",
       "      [600/600 16:13, Epoch 3/3]\n",
       "    </div>\n",
       "    <table border=\"1\" class=\"dataframe\">\n",
       "  <thead>\n",
       " <tr style=\"text-align: left;\">\n",
       "      <th>Epoch</th>\n",
       "      <th>Training Loss</th>\n",
       "      <th>Validation Loss</th>\n",
       "      <th>Accuracy</th>\n",
       "      <th>F1 Macro</th>\n",
       "    </tr>\n",
       "  </thead>\n",
       "  <tbody>\n",
       "    <tr>\n",
       "      <td>1</td>\n",
       "      <td>No log</td>\n",
       "      <td>0.409261</td>\n",
       "      <td>0.856000</td>\n",
       "      <td>0.806838</td>\n",
       "    </tr>\n",
       "    <tr>\n",
       "      <td>2</td>\n",
       "      <td>No log</td>\n",
       "      <td>0.437703</td>\n",
       "      <td>0.872000</td>\n",
       "      <td>0.821036</td>\n",
       "    </tr>\n",
       "    <tr>\n",
       "      <td>3</td>\n",
       "      <td>0.369300</td>\n",
       "      <td>0.476055</td>\n",
       "      <td>0.868000</td>\n",
       "      <td>0.817815</td>\n",
       "    </tr>\n",
       "  </tbody>\n",
       "</table><p>"
      ],
      "text/plain": [
       "<IPython.core.display.HTML object>"
      ]
     },
     "metadata": {},
     "output_type": "display_data"
    },
    {
     "name": "stderr",
     "output_type": "stream",
     "text": [
      "C:\\Users\\hinat\\.conda\\envs\\fe-course\\Lib\\site-packages\\torch\\utils\\data\\dataloader.py:666: UserWarning: 'pin_memory' argument is set as true but no accelerator is found, then device pinned memory won't be used.\n",
      "  warnings.warn(warn_msg)\n",
      "C:\\Users\\hinat\\.conda\\envs\\fe-course\\Lib\\site-packages\\torch\\utils\\data\\dataloader.py:666: UserWarning: 'pin_memory' argument is set as true but no accelerator is found, then device pinned memory won't be used.\n",
      "  warnings.warn(warn_msg)\n"
     ]
    },
    {
     "name": "stdout",
     "output_type": "stream",
     "text": [
      "Saved model to finbert_minty_model_v1\n"
     ]
    }
   ],
   "source": [
    "# Cell 11: 9) Train\n",
    "trainer.train()\n",
    "# Save best model & tokenizer\n",
    "trainer.save_model(MODEL_OUTPUT_DIR)\n",
    "tokenizer.save_pretrained(MODEL_OUTPUT_DIR)\n",
    "print(\"Saved model to\", MODEL_OUTPUT_DIR)"
   ]
  },
  {
   "cell_type": "code",
   "execution_count": 19,
   "id": "194d0d73-6792-4bed-8563-656695044cc0",
   "metadata": {},
   "outputs": [
    {
     "name": "stderr",
     "output_type": "stream",
     "text": [
      "C:\\Users\\hinat\\.conda\\envs\\fe-course\\Lib\\site-packages\\torch\\utils\\data\\dataloader.py:666: UserWarning: 'pin_memory' argument is set as true but no accelerator is found, then device pinned memory won't be used.\n",
      "  warnings.warn(warn_msg)\n"
     ]
    },
    {
     "data": {
      "text/html": [],
      "text/plain": [
       "<IPython.core.display.HTML object>"
      ]
     },
     "metadata": {},
     "output_type": "display_data"
    },
    {
     "name": "stdout",
     "output_type": "stream",
     "text": [
      "Accuracy & Macro-F1 on test: {'accuracy': 0.8325, 'f1_macro': 0.7807594508141508}\n",
      "\n",
      "Classification report (test):\n",
      "              precision    recall  f1-score   support\n",
      "\n",
      "           0       0.77      0.68      0.72        79\n",
      "           1       0.69      0.77      0.73        62\n",
      "           2       0.89      0.89      0.89       259\n",
      "\n",
      "    accuracy                           0.83       400\n",
      "   macro avg       0.78      0.78      0.78       400\n",
      "weighted avg       0.83      0.83      0.83       400\n",
      "\n"
     ]
    },
    {
     "data": {
      "image/png": "[encoded data removed]",
      "text/plain": [
       "<Figure size 600x500 with 2 Axes>"
      ]
     },
     "metadata": {},
     "output_type": "display_data"
    }
   ],
   "source": [
    "# Cell 12: 10) Evaluate on test set (detailed)\n",
    "predictions = trainer.predict(test_tok)\n",
    "y_true = predictions.label_ids\n",
    "y_pred = np.argmax(predictions.predictions, axis=-1)\n",
    "\n",
    "print(\"Accuracy & Macro-F1 on test:\", compute_metrics((predictions.predictions, y_true)))\n",
    "print(\"\\nClassification report (test):\")\n",
    "print(classification_report(y_true, y_pred, target_names=[str(id2label[i]) for i in range(num_labels)]))\n",
    "\n",
    "cm = confusion_matrix(y_true, y_pred)\n",
    "plt.figure(figsize=(6,5))\n",
    "sns.heatmap(cm, annot=True, fmt=\"d\", xticklabels=[id2label[i] for i in range(num_labels)],\n",
    "            yticklabels=[id2label[i] for i in range(num_labels)], cmap=\"Blues\")\n",
    "plt.xlabel(\"Predicted\"); plt.ylabel(\"True\"); plt.title(\"Confusion matrix (Test)\")\n",
    "plt.show()"
   ]
  },
  {
   "cell_type": "code",
   "execution_count": 20,
   "id": "8572a855-e691-4139-8985-228a108f8687",
   "metadata": {},
   "outputs": [
    {
     "name": "stdout",
     "output_type": "stream",
     "text": [
      "Optimal temperature: 1.1315217018127441\n"
     ]
    },
    {
     "name": "stderr",
     "output_type": "stream",
     "text": [
      "C:\\Users\\hinat\\.conda\\envs\\fe-course\\Lib\\site-packages\\torch\\optim\\lbfgs.py:457: UserWarning: Converting a tensor with requires_grad=True to a scalar may lead to unexpected behavior.\n",
      "Consider using tensor.detach() first. (Triggered internally at C:\\actions-runner\\_work\\pytorch\\pytorch\\pytorch\\torch\\csrc\\autograd\\generated\\python_variable_methods.cpp:836.)\n",
      "  loss = float(closure())\n",
      "C:\\Users\\hinat\\AppData\\Local\\Temp\\ipykernel_6348\\2982943978.py:52: DeprecationWarning: Conversion of an array with ndim > 0 to a scalar is deprecated, and will error in future. Ensure you extract a single element from your array before performing this operation. (Deprecated NumPy 1.25.)\n",
      "  T_opt = float(temp_model.temperature.detach().cpu().numpy())\n"
     ]
    }
   ],
   "source": [
    "# Cell 13: 11) Calibration - Temperature scaling (graduate-level)\n",
    "# Temperature scaling is a simple post-hoc calibration: multiply logits by 1/T and re-softmax.\n",
    "# We optimize T on validation set using NLL (cross-entropy). Implementation below.\n",
    "\n",
    "import torch.nn as nn\n",
    "from torch.optim import LBFGS\n",
    "\n",
    "class TemperatureScaler(nn.Module):\n",
    "    def __init__(self):\n",
    "        super().__init__()\n",
    "        self.temperature = nn.Parameter(torch.ones(1) * 1.0)\n",
    "\n",
    "    def forward(self, logits):\n",
    "        # logits: (N, C)\n",
    "        temp = self.temperature.unsqueeze(1).expand(logits.size(0), logits.size(1))\n",
    "        return logits / temp\n",
    "\n",
    "# prepare logits and labels on validation set\n",
    "def get_logits_and_labels(dataset_tok):\n",
    "    model.eval()\n",
    "    all_logits = []\n",
    "    all_labels = []\n",
    "    loader = torch.utils.data.DataLoader(dataset_tok, batch_size=32, collate_fn=data_collator)\n",
    "    with torch.no_grad():\n",
    "        for batch in loader:\n",
    "            inputs = {k: v.to(DEVICE) for k, v in batch.items() if k != \"labels\"}\n",
    "            out = model(**inputs)\n",
    "            logits = out.logits.detach().cpu()\n",
    "            labels = batch[\"labels\"].detach().cpu()\n",
    "            all_logits.append(logits)\n",
    "            all_labels.append(labels)\n",
    "    return torch.cat(all_logits, dim=0), torch.cat(all_labels, dim=0)\n",
    "\n",
    "if val_tok is not None:\n",
    "    val_logits, val_labels = get_logits_and_labels(val_tok)\n",
    "    # optimize temperature\n",
    "    temp_model = TemperatureScaler().to(DEVICE)\n",
    "    nll_criterion = nn.CrossEntropyLoss()\n",
    "    optimizer = torch.optim.LBFGS([temp_model.temperature], lr=0.01, max_iter=50)\n",
    "\n",
    "    logits_var = val_logits.to(DEVICE)\n",
    "    labels_var = val_labels.to(DEVICE)\n",
    "\n",
    "    def closure():\n",
    "        optimizer.zero_grad()\n",
    "        scaled = temp_model(logits_var)\n",
    "        loss = nll_criterion(scaled, labels_var)\n",
    "        loss.backward()\n",
    "        return loss\n",
    "\n",
    "    optimizer.step(closure)\n",
    "    T_opt = float(temp_model.temperature.detach().cpu().numpy())\n",
    "    print(\"Optimal temperature:\", T_opt)\n",
    "else:\n",
    "    T_opt = 1.0\n",
    "    print(\"No validation set provided; skip calibration. Using T=1.\")\n"
   ]
  },
  {
   "cell_type": "code",
   "execution_count": 21,
   "id": "77d90650-3ecd-4649-86fd-8ff55e5b4fc3",
   "metadata": {},
   "outputs": [
    {
     "name": "stdout",
     "output_type": "stream",
     "text": [
      "Brier score per class: {0: 0.08685356719885366, 1: 0.07424035334162621, 2: 0.11938404972933882}\n",
      "Mean Brier: 0.09349265675660623\n"
     ]
    },
    {
     "data": {
      "image/png": "[encoded data removed]",
      "text/plain": [
       "<Figure size 800x600 with 1 Axes>"
      ]
     },
     "metadata": {},
     "output_type": "display_data"
    }
   ],
   "source": [
    "# Cell 14: 12) Evaluate calibrated probabilities on test (Brier score + reliability diagram)\n",
    "from sklearn.calibration import calibration_curve\n",
    "\n",
    "# helper to get calibrated probabilities\n",
    "def get_probs_with_temperature(logits: np.ndarray, T: float):\n",
    "    # logits shape (N, C)\n",
    "    scaled = logits / T\n",
    "    exp = np.exp(scaled - np.max(scaled, axis=1, keepdims=True))\n",
    "    probs = exp / np.sum(exp, axis=1, keepdims=True)\n",
    "    return probs\n",
    "\n",
    "probs_test = get_probs_with_temperature(predictions.predictions, T_opt)\n",
    "y_true_test = y_true\n",
    "\n",
    "# Brier score (multi-class: average of per-class Brier)\n",
    "brier_per_class = []\n",
    "for k in range(num_labels):\n",
    "    y_true_binary = (y_true_test == k).astype(int)\n",
    "    brier = brier_score_loss(y_true_binary, probs_test[:, k])\n",
    "    brier_per_class.append(brier)\n",
    "print(\"Brier score per class:\", {id2label[k]: b for k, b in enumerate(brier_per_class)})\n",
    "print(\"Mean Brier:\", np.mean(brier_per_class))\n",
    "\n",
    "# Reliability diagram for each class (prob calibration plots)\n",
    "plt.figure(figsize=(8, 6))\n",
    "for k in range(num_labels):\n",
    "    y_true_binary = (y_true_test == k).astype(int)\n",
    "    prob = probs_test[:, k]\n",
    "    frac_pos, mean_pred = calibration_curve(y_true_binary, prob, n_bins=10)\n",
    "    plt.plot(mean_pred, frac_pos, marker='o', label=f\"{id2label[k]}\")\n",
    "plt.plot([0,1],[0,1],\"k--\", label=\"Perfect calibration\")\n",
    "plt.xlabel(\"Mean predicted probability\"); plt.ylabel(\"Fraction positive\")\n",
    "plt.title(\"Reliability diagrams per class (Test)\")\n",
    "plt.legend()\n",
    "plt.show()\n"
   ]
  },
  {
   "cell_type": "code",
   "execution_count": 22,
   "id": "606d8926-dc94-4da2-aeed-c9b6e2790de7",
   "metadata": {},
   "outputs": [
    {
     "name": "stdout",
     "output_type": "stream",
     "text": [
      "No date column available in test split; event-study scaffold requires timestamped headlines. If you have news feed timestamps, align them to price times and re-run this cell.\n"
     ]
    }
   ],
   "source": [
    "# Cell 15: 13) Small event-study scaffold (headline-day sentiment -> next-day return)\n",
    "# This is a minimal, reproducible skeleton. Do careful timestamp alignment for real analyses.\n",
    "\n",
    "import yfinance as yf\n",
    "from datetime import timedelta\n",
    "\n",
    "# Example: use Alpha Vantage news you already pulled or use dataset timestamps if available.\n",
    "# For simplicity, create a small daily aggregated sentiment series using test set texts:\n",
    "# Convert test set text -> predicted probability of 'positive' - 'negative' as a daily signal.\n",
    "\n",
    "# Detect a date column in dataset if present (many datasets have 'date' or 'time_published')\n",
    "date_col = None\n",
    "for cand in (\"date\",\"time\",\"time_published\",\"published_at\",\"timestamp\"):\n",
    "    if cand in test_ds.column_names:\n",
    "        date_col = cand\n",
    "        break\n",
    "\n",
    "if date_col:\n",
    "    # build dataframe: date -> list of probs\n",
    "    records = []\n",
    "    texts = test_ds[text_col]\n",
    "    # get probs for test texts using probs_test computed earlier\n",
    "    # We used HF dataset split order: predictions correspond to test_tok rows; ensure mapping aligns\n",
    "    for idx in range(len(test_ds)):\n",
    "        d = test_ds[idx]\n",
    "        txt = d[text_col]\n",
    "        dt_val = d.get(date_col, None)\n",
    "        if dt_val is None:\n",
    "            continue\n",
    "        # coerce date\n",
    "        date = pd.to_datetime(dt_val).date()\n",
    "        prob_pos = float(probs_test[idx, [i for i,lab in id2label.items() if lab.lower()==\"positive\"][0] if False else probs_test[idx, -1]])  # simplified: last class often positive\n",
    "        # NOTE: above line is placeholder: align properly in final pipeline\n",
    "        records.append({\"date\": date, \"prob_pos\": prob_pos})\n",
    "    if records:\n",
    "        df_sent = pd.DataFrame(records).groupby(\"date\").mean()\n",
    "        # fetch price series for a sample ticker for same date range\n",
    "        ticker = \"AAPL\"\n",
    "        px = yf.download(ticker, start=df_sent.index.min(), end=(df_sent.index.max()+timedelta(days=2)).strftime(\"%Y-%m-%d\"))[\"Close\"]\n",
    "        px = px.pct_change().rename(\"ret\")\n",
    "        # join and compute correlation\n",
    "        panel = df_sent.join(px, how=\"inner\")\n",
    "        print(\"Correlation between daily sentiment and same-day return:\", panel[\"prob_pos\"].corr(panel[\"ret\"]))\n",
    "else:\n",
    "    print(\"No date column available in test split; event-study scaffold requires timestamped headlines. If you have news feed timestamps, align them to price times and re-run this cell.\")\n"
   ]
  },
  {
   "cell_type": "code",
   "execution_count": null,
   "id": "a01e40b4-ca0b-4d9b-a0bb-df668f2a8528",
   "metadata": {},
   "outputs": [],
   "source": []
  }
 ],
 "metadata": {
  "kernelspec": {
   "display_name": "Python 3 (ipykernel)",
   "language": "python",
   "name": "python3"
  },
  "language_info": {
   "codemirror_mode": {
    "name": "ipython",
    "version": 3
   },
   "file_extension": ".py",
   "mimetype": "text/x-python",
   "name": "python",
   "nbconvert_exporter": "python",
   "pygments_lexer": "ipython3",
   "version": "3.11.13"
  }
 },
 "nbformat": 4,
 "nbformat_minor": 5
}
